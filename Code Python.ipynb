{
 "cells": [
  {
   "cell_type": "markdown",
   "id": "8c416e52",
   "metadata": {},
   "source": [
    "<h1> Projet de Machine Learning - Etienne Gaucher</h1> "
   ]
  },
  {
   "cell_type": "markdown",
   "id": "5a5ada2c",
   "metadata": {},
   "source": [
    "<h2>  I - Import et analyse du dataset  </h2> "
   ]
  },
  {
   "cell_type": "code",
   "execution_count": 1,
   "id": "dff6adbf",
   "metadata": {},
   "outputs": [
    {
     "name": "stdout",
     "output_type": "stream",
     "text": [
      "Taille du dataset original : (2821, 89) \n",
      "\n",
      "   obs  raw_feat_X1  raw_feat_X2  raw_feat_X3  raw_feat_X4  raw_feat_X5  \\\n",
      "0    0     0.249744    -0.162770     0.223727     0.393904    -0.154366   \n",
      "1    1     0.385843    -0.660978    -0.127798    -0.205710    -0.160936   \n",
      "2    2     3.344528    -4.535931     0.165140    -0.228745     3.203818   \n",
      "3    3     3.190676    -2.884463    -1.153080    -0.698292     1.868221   \n",
      "4    4     2.338575    -2.699941    -0.069211    -0.025849     1.420714   \n",
      "\n",
      "   raw_feat_X6  raw_feat_X7  raw_feat_X8  raw_feat_X9  ...  deriv_feat_X21  \\\n",
      "0     0.128968     1.090661     0.913849     0.505526  ...        0.121241   \n",
      "1     0.111606     0.171391     2.889781     0.377333  ...       -0.182778   \n",
      "2     3.379462     1.089901     2.097552     0.877990  ...        0.425260   \n",
      "3     2.493077     2.546198     3.817391     3.711000  ...       -4.743065   \n",
      "4     2.137326     1.097388     2.101987     1.200319  ...       -2.766941   \n",
      "\n",
      "   deriv_feat_X22  deriv_feat_X23  deriv_feat_X24  deriv_feat_X25  \\\n",
      "0        0.734862        0.179370        0.402461        0.638393   \n",
      "1        0.357499       -0.056181        0.840313        0.605672   \n",
      "2        8.093449       -0.684318        0.046744        3.440332   \n",
      "3       -0.774592       -1.076903       -0.818687        3.572430   \n",
      "4        0.168817       -1.116162       -1.640847        1.527936   \n",
      "\n",
      "   deriv_feat_X26  deriv_feat_X27  deriv_feat_X28  deriv_feat_X29  FALL  \n",
      "0        0.344236        0.823239       -0.409350        1.425206     1  \n",
      "1        0.655029        1.052671       -0.177353        1.613721     1  \n",
      "2        3.965586        2.916183        0.367674        3.952479     1  \n",
      "3        3.409429        2.407953        1.233629        2.702845     1  \n",
      "4        2.215856        2.353429        0.721413        2.933661     1  \n",
      "\n",
      "[5 rows x 89 columns] \n",
      "\n",
      "obs                 int64\n",
      "raw_feat_X1       float64\n",
      "raw_feat_X2       float64\n",
      "raw_feat_X3       float64\n",
      "raw_feat_X4       float64\n",
      "                   ...   \n",
      "deriv_feat_X26    float64\n",
      "deriv_feat_X27    float64\n",
      "deriv_feat_X28    float64\n",
      "deriv_feat_X29    float64\n",
      "FALL                int64\n",
      "Length: 89, dtype: object \n",
      "\n",
      "Présence de NA dans le dataset ? -> False \n",
      "\n",
      "Taille de X : (2821, 85) \n",
      "\n",
      "Taille de Y : (2821,) \n",
      "\n",
      "Proportion de classe 1 : 0.07160581354129741 \n",
      "\n"
     ]
    },
    {
     "data": {
      "text/html": [
       "<div>\n",
       "<style scoped>\n",
       "    .dataframe tbody tr th:only-of-type {\n",
       "        vertical-align: middle;\n",
       "    }\n",
       "\n",
       "    .dataframe tbody tr th {\n",
       "        vertical-align: top;\n",
       "    }\n",
       "\n",
       "    .dataframe thead th {\n",
       "        text-align: right;\n",
       "    }\n",
       "</style>\n",
       "<table border=\"1\" class=\"dataframe\">\n",
       "  <thead>\n",
       "    <tr style=\"text-align: right;\">\n",
       "      <th></th>\n",
       "      <th>Mean</th>\n",
       "      <th>Variance</th>\n",
       "    </tr>\n",
       "  </thead>\n",
       "  <tbody>\n",
       "    <tr>\n",
       "      <th>raw_feat_X1</th>\n",
       "      <td>1.667207e-09</td>\n",
       "      <td>1.0</td>\n",
       "    </tr>\n",
       "    <tr>\n",
       "      <th>raw_feat_X2</th>\n",
       "      <td>3.795496e-10</td>\n",
       "      <td>1.0</td>\n",
       "    </tr>\n",
       "    <tr>\n",
       "      <th>raw_feat_X3</th>\n",
       "      <td>3.899275e-09</td>\n",
       "      <td>1.0</td>\n",
       "    </tr>\n",
       "    <tr>\n",
       "      <th>raw_feat_X4</th>\n",
       "      <td>1.012218e-09</td>\n",
       "      <td>1.0</td>\n",
       "    </tr>\n",
       "    <tr>\n",
       "      <th>raw_feat_X5</th>\n",
       "      <td>-1.859469e-10</td>\n",
       "      <td>1.0</td>\n",
       "    </tr>\n",
       "    <tr>\n",
       "      <th>...</th>\n",
       "      <td>...</td>\n",
       "      <td>...</td>\n",
       "    </tr>\n",
       "    <tr>\n",
       "      <th>deriv_feat_X25</th>\n",
       "      <td>9.615325e-10</td>\n",
       "      <td>1.0</td>\n",
       "    </tr>\n",
       "    <tr>\n",
       "      <th>deriv_feat_X26</th>\n",
       "      <td>6.541429e-10</td>\n",
       "      <td>1.0</td>\n",
       "    </tr>\n",
       "    <tr>\n",
       "      <th>deriv_feat_X27</th>\n",
       "      <td>4.666482e-09</td>\n",
       "      <td>1.0</td>\n",
       "    </tr>\n",
       "    <tr>\n",
       "      <th>deriv_feat_X28</th>\n",
       "      <td>2.200017e-08</td>\n",
       "      <td>1.0</td>\n",
       "    </tr>\n",
       "    <tr>\n",
       "      <th>deriv_feat_X29</th>\n",
       "      <td>2.628659e-09</td>\n",
       "      <td>1.0</td>\n",
       "    </tr>\n",
       "  </tbody>\n",
       "</table>\n",
       "<p>85 rows × 2 columns</p>\n",
       "</div>"
      ],
      "text/plain": [
       "                        Mean  Variance\n",
       "raw_feat_X1     1.667207e-09       1.0\n",
       "raw_feat_X2     3.795496e-10       1.0\n",
       "raw_feat_X3     3.899275e-09       1.0\n",
       "raw_feat_X4     1.012218e-09       1.0\n",
       "raw_feat_X5    -1.859469e-10       1.0\n",
       "...                      ...       ...\n",
       "deriv_feat_X25  9.615325e-10       1.0\n",
       "deriv_feat_X26  6.541429e-10       1.0\n",
       "deriv_feat_X27  4.666482e-09       1.0\n",
       "deriv_feat_X28  2.200017e-08       1.0\n",
       "deriv_feat_X29  2.628659e-09       1.0\n",
       "\n",
       "[85 rows x 2 columns]"
      ]
     },
     "execution_count": 1,
     "metadata": {},
     "output_type": "execute_result"
    }
   ],
   "source": [
    "# import des librairies numpy et pandas\n",
    "import pandas as pd\n",
    "import numpy as np\n",
    "\n",
    "import warnings\n",
    "warnings.filterwarnings('ignore')\n",
    "\n",
    "# import du dataset depuis le fichier .csv\n",
    "data = pd.read_csv('falldataproject.csv')\n",
    "print(\"Taille du dataset original :\", data.shape, \"\\n\")\n",
    "print(data.head(), \"\\n\")\n",
    "\n",
    "# classe de chaque variable\n",
    "print(data.dtypes, \"\\n\")\n",
    "\n",
    "# suppression de la colonne obs\n",
    "data = data.drop(\"obs\", axis=1)\n",
    "\n",
    "# suppression des lignes dupliquées\n",
    "data = data.drop_duplicates()\n",
    "\n",
    "# suppression des colonnes dupliquées\n",
    "data = (data.T.drop_duplicates()).T\n",
    "\n",
    "# vérification de présence de valeur NA dans le dataset\n",
    "print(\"Présence de NA dans le dataset ? ->\", bool(data.isnull().sum().sum()), \"\\n\")\n",
    "\n",
    "# assignation des datasets X et Y\n",
    "X = data.drop(\"FALL\", axis=1)\n",
    "Y = data[\"FALL\"]\n",
    "print(\"Taille de X :\", X.shape, \"\\n\")\n",
    "print(\"Taille de Y :\", Y.shape, \"\\n\")\n",
    "\n",
    "# proportion de classe 1 dans le dataset\n",
    "print(\"Proportion de classe 1 :\", Y.mean(), \"\\n\") \n",
    "\n",
    "# vérifie si le dataset est \"scale\" (centré-réduit)\n",
    "stat = {'Mean':X.mean(), 'Variance':X.std()}\n",
    "pd.DataFrame(data=stat)"
   ]
  },
  {
   "cell_type": "markdown",
   "id": "555f2b7a",
   "metadata": {},
   "source": [
    "<h2> II - Validation croisée et score </h2>"
   ]
  },
  {
   "cell_type": "code",
   "execution_count": 2,
   "id": "aab40a09",
   "metadata": {},
   "outputs": [],
   "source": [
    "# import des librairies\n",
    "from sklearn.model_selection import StratifiedKFold\n",
    "from sklearn import metrics\n",
    "\n",
    "def performance_metrics(model, K=5):\n",
    "    \n",
    "    '''\n",
    "    \n",
    "    Inputs\n",
    "    ---------------------\n",
    "    model : classifier function [sklearn'function]\n",
    "    K : number of folds for cross-validation [int] (by default=5)\n",
    "    \n",
    "    Outputs\n",
    "    ---------------------\n",
    "    mean metrics (accuracy, f1-score, recall and precision) of the model over the folds [DataFrame]\n",
    "    '''\n",
    "    \n",
    "    # définition des listes\n",
    "    accuracy_score_test = []\n",
    "    f1_score_test = []\n",
    "    recall_score_test = []\n",
    "    precision_score_test = []\n",
    "    \n",
    "    # K-fold stratifié\n",
    "    skf = StratifiedKFold(n_splits = K, shuffle = True)\n",
    "    \n",
    "    for train_index, test_index in skf.split(X, Y):\n",
    "        \n",
    "        # construction des dataset train et test\n",
    "        X_train, X_test = X.loc[train_index,:], X.loc[test_index,:]\n",
    "        Y_train, Y_test = Y.loc[train_index], Y.loc[test_index]\n",
    "        \n",
    "        # apprentissage sur le dataset train et prédiction sur le dataset test\n",
    "        model_fit = model.fit(X_train, Y_train)   \n",
    "        Y_pred = model_fit.predict(X_test)\n",
    "        \n",
    "        # score du modèle pour chaque fold\n",
    "        accuracy_score_test.append(metrics.accuracy_score(Y_test, Y_pred))\n",
    "        f1_score_test.append(metrics.f1_score(Y_test, Y_pred))\n",
    "        recall_score_test.append(metrics.recall_score(Y_test, Y_pred))\n",
    "        precision_score_test.append(metrics.precision_score(Y_test, Y_pred))\n",
    "    \n",
    "    labels = ['accuracy_test',\n",
    "           'f1_test', \n",
    "           'recall_test', \n",
    "           'precision_test']\n",
    "    \n",
    "    data = np.array([accuracy_score_test,\n",
    "        f1_score_test, \n",
    "        recall_score_test,\n",
    "        precision_score_test])\n",
    "    \n",
    "    # moyenne de chaque score\n",
    "    data_mean = np.mean(data, axis=1)\n",
    "\n",
    "    \n",
    "    df = pd.DataFrame(data_mean).T\n",
    "    df.columns = labels\n",
    "    \n",
    "    return df"
   ]
  },
  {
   "cell_type": "markdown",
   "id": "02df938d",
   "metadata": {},
   "source": [
    "<h2> III - Les modèles </h2>"
   ]
  },
  {
   "cell_type": "markdown",
   "id": "05c9fe68",
   "metadata": {},
   "source": [
    "<h3> a - Naive Bayes Classifier </h3>"
   ]
  },
  {
   "cell_type": "code",
   "execution_count": 3,
   "id": "68214deb",
   "metadata": {},
   "outputs": [
    {
     "data": {
      "text/html": [
       "<div>\n",
       "<style scoped>\n",
       "    .dataframe tbody tr th:only-of-type {\n",
       "        vertical-align: middle;\n",
       "    }\n",
       "\n",
       "    .dataframe tbody tr th {\n",
       "        vertical-align: top;\n",
       "    }\n",
       "\n",
       "    .dataframe thead th {\n",
       "        text-align: right;\n",
       "    }\n",
       "</style>\n",
       "<table border=\"1\" class=\"dataframe\">\n",
       "  <thead>\n",
       "    <tr style=\"text-align: right;\">\n",
       "      <th></th>\n",
       "      <th>accuracy_test</th>\n",
       "      <th>f1_test</th>\n",
       "      <th>recall_test</th>\n",
       "      <th>precision_test</th>\n",
       "    </tr>\n",
       "  </thead>\n",
       "  <tbody>\n",
       "    <tr>\n",
       "      <th>0</th>\n",
       "      <td>0.960301</td>\n",
       "      <td>0.771068</td>\n",
       "      <td>0.930854</td>\n",
       "      <td>0.658682</td>\n",
       "    </tr>\n",
       "  </tbody>\n",
       "</table>\n",
       "</div>"
      ],
      "text/plain": [
       "   accuracy_test   f1_test  recall_test  precision_test\n",
       "0       0.960301  0.771068     0.930854        0.658682"
      ]
     },
     "execution_count": 3,
     "metadata": {},
     "output_type": "execute_result"
    }
   ],
   "source": [
    "from sklearn.naive_bayes import GaussianNB\n",
    "\n",
    "nbc = performance_metrics(GaussianNB())\n",
    "nbc"
   ]
  },
  {
   "cell_type": "markdown",
   "id": "3a6707cb",
   "metadata": {},
   "source": [
    "<h3> b - Logistic regression </h3>"
   ]
  },
  {
   "cell_type": "code",
   "execution_count": 4,
   "id": "3bb584d7",
   "metadata": {},
   "outputs": [
    {
     "data": {
      "text/html": [
       "<div>\n",
       "<style scoped>\n",
       "    .dataframe tbody tr th:only-of-type {\n",
       "        vertical-align: middle;\n",
       "    }\n",
       "\n",
       "    .dataframe tbody tr th {\n",
       "        vertical-align: top;\n",
       "    }\n",
       "\n",
       "    .dataframe thead th {\n",
       "        text-align: right;\n",
       "    }\n",
       "</style>\n",
       "<table border=\"1\" class=\"dataframe\">\n",
       "  <thead>\n",
       "    <tr style=\"text-align: right;\">\n",
       "      <th></th>\n",
       "      <th>accuracy_test</th>\n",
       "      <th>f1_test</th>\n",
       "      <th>recall_test</th>\n",
       "      <th>precision_test</th>\n",
       "    </tr>\n",
       "  </thead>\n",
       "  <tbody>\n",
       "    <tr>\n",
       "      <th>0</th>\n",
       "      <td>0.98972</td>\n",
       "      <td>0.925921</td>\n",
       "      <td>0.90561</td>\n",
       "      <td>0.949608</td>\n",
       "    </tr>\n",
       "  </tbody>\n",
       "</table>\n",
       "</div>"
      ],
      "text/plain": [
       "   accuracy_test   f1_test  recall_test  precision_test\n",
       "0        0.98972  0.925921      0.90561        0.949608"
      ]
     },
     "execution_count": 4,
     "metadata": {},
     "output_type": "execute_result"
    }
   ],
   "source": [
    "from sklearn.linear_model import LogisticRegression\n",
    "\n",
    "lr = performance_metrics(LogisticRegression())\n",
    "lr"
   ]
  },
  {
   "cell_type": "markdown",
   "id": "cac733ed",
   "metadata": {},
   "source": [
    "<h3> c - Discriminant analysis </h3>\n"
   ]
  },
  {
   "cell_type": "markdown",
   "id": "456e86ea",
   "metadata": {},
   "source": [
    "<h4> Linear discriminant analysis (LDA) </h4>"
   ]
  },
  {
   "cell_type": "code",
   "execution_count": 5,
   "id": "b9bf384e",
   "metadata": {
    "scrolled": true
   },
   "outputs": [
    {
     "data": {
      "text/html": [
       "<div>\n",
       "<style scoped>\n",
       "    .dataframe tbody tr th:only-of-type {\n",
       "        vertical-align: middle;\n",
       "    }\n",
       "\n",
       "    .dataframe tbody tr th {\n",
       "        vertical-align: top;\n",
       "    }\n",
       "\n",
       "    .dataframe thead th {\n",
       "        text-align: right;\n",
       "    }\n",
       "</style>\n",
       "<table border=\"1\" class=\"dataframe\">\n",
       "  <thead>\n",
       "    <tr style=\"text-align: right;\">\n",
       "      <th></th>\n",
       "      <th>accuracy_test</th>\n",
       "      <th>f1_test</th>\n",
       "      <th>recall_test</th>\n",
       "      <th>precision_test</th>\n",
       "    </tr>\n",
       "  </thead>\n",
       "  <tbody>\n",
       "    <tr>\n",
       "      <th>0</th>\n",
       "      <td>0.989011</td>\n",
       "      <td>0.918566</td>\n",
       "      <td>0.870976</td>\n",
       "      <td>0.974028</td>\n",
       "    </tr>\n",
       "  </tbody>\n",
       "</table>\n",
       "</div>"
      ],
      "text/plain": [
       "   accuracy_test   f1_test  recall_test  precision_test\n",
       "0       0.989011  0.918566     0.870976        0.974028"
      ]
     },
     "execution_count": 5,
     "metadata": {},
     "output_type": "execute_result"
    }
   ],
   "source": [
    "from sklearn.discriminant_analysis import LinearDiscriminantAnalysis\n",
    "\n",
    "lda = performance_metrics(LinearDiscriminantAnalysis())\n",
    "lda"
   ]
  },
  {
   "cell_type": "markdown",
   "id": "53a09e90",
   "metadata": {},
   "source": [
    "<h4> Quadratic discriminant analysis (QDA) </h4>"
   ]
  },
  {
   "cell_type": "code",
   "execution_count": 6,
   "id": "46837e1c",
   "metadata": {},
   "outputs": [
    {
     "data": {
      "text/html": [
       "<div>\n",
       "<style scoped>\n",
       "    .dataframe tbody tr th:only-of-type {\n",
       "        vertical-align: middle;\n",
       "    }\n",
       "\n",
       "    .dataframe tbody tr th {\n",
       "        vertical-align: top;\n",
       "    }\n",
       "\n",
       "    .dataframe thead th {\n",
       "        text-align: right;\n",
       "    }\n",
       "</style>\n",
       "<table border=\"1\" class=\"dataframe\">\n",
       "  <thead>\n",
       "    <tr style=\"text-align: right;\">\n",
       "      <th></th>\n",
       "      <th>accuracy_test</th>\n",
       "      <th>f1_test</th>\n",
       "      <th>recall_test</th>\n",
       "      <th>precision_test</th>\n",
       "    </tr>\n",
       "  </thead>\n",
       "  <tbody>\n",
       "    <tr>\n",
       "      <th>0</th>\n",
       "      <td>0.978376</td>\n",
       "      <td>0.865263</td>\n",
       "      <td>0.955488</td>\n",
       "      <td>0.792766</td>\n",
       "    </tr>\n",
       "  </tbody>\n",
       "</table>\n",
       "</div>"
      ],
      "text/plain": [
       "   accuracy_test   f1_test  recall_test  precision_test\n",
       "0       0.978376  0.865263     0.955488        0.792766"
      ]
     },
     "execution_count": 6,
     "metadata": {},
     "output_type": "execute_result"
    }
   ],
   "source": [
    "from sklearn.discriminant_analysis import QuadraticDiscriminantAnalysis\n",
    "\n",
    "qda = performance_metrics(QuadraticDiscriminantAnalysis())\n",
    "qda"
   ]
  },
  {
   "cell_type": "markdown",
   "id": "bbf72ba9",
   "metadata": {},
   "source": [
    "<h3> d - Support Vector Machine (SVM)"
   ]
  },
  {
   "cell_type": "markdown",
   "id": "5eb0b759",
   "metadata": {},
   "source": [
    "<h4> Linear kernel </h4>"
   ]
  },
  {
   "cell_type": "code",
   "execution_count": 7,
   "id": "6a63f269",
   "metadata": {
    "scrolled": true
   },
   "outputs": [
    {
     "data": {
      "text/html": [
       "<div>\n",
       "<style scoped>\n",
       "    .dataframe tbody tr th:only-of-type {\n",
       "        vertical-align: middle;\n",
       "    }\n",
       "\n",
       "    .dataframe tbody tr th {\n",
       "        vertical-align: top;\n",
       "    }\n",
       "\n",
       "    .dataframe thead th {\n",
       "        text-align: right;\n",
       "    }\n",
       "</style>\n",
       "<table border=\"1\" class=\"dataframe\">\n",
       "  <thead>\n",
       "    <tr style=\"text-align: right;\">\n",
       "      <th></th>\n",
       "      <th>accuracy_test</th>\n",
       "      <th>f1_test</th>\n",
       "      <th>recall_test</th>\n",
       "      <th>precision_test</th>\n",
       "    </tr>\n",
       "  </thead>\n",
       "  <tbody>\n",
       "    <tr>\n",
       "      <th>0</th>\n",
       "      <td>0.988304</td>\n",
       "      <td>0.917002</td>\n",
       "      <td>0.906341</td>\n",
       "      <td>0.931301</td>\n",
       "    </tr>\n",
       "  </tbody>\n",
       "</table>\n",
       "</div>"
      ],
      "text/plain": [
       "   accuracy_test   f1_test  recall_test  precision_test\n",
       "0       0.988304  0.917002     0.906341        0.931301"
      ]
     },
     "execution_count": 7,
     "metadata": {},
     "output_type": "execute_result"
    }
   ],
   "source": [
    "from sklearn.svm import SVC\n",
    "\n",
    "svm_l = performance_metrics(SVC(kernel = 'linear'))\n",
    "svm_l"
   ]
  },
  {
   "cell_type": "markdown",
   "id": "9eebf57f",
   "metadata": {},
   "source": [
    "<h4> Polynomial kernel </h4>"
   ]
  },
  {
   "cell_type": "code",
   "execution_count": 8,
   "id": "7aed4ff4",
   "metadata": {
    "scrolled": true
   },
   "outputs": [
    {
     "data": {
      "text/html": [
       "<div>\n",
       "<style scoped>\n",
       "    .dataframe tbody tr th:only-of-type {\n",
       "        vertical-align: middle;\n",
       "    }\n",
       "\n",
       "    .dataframe tbody tr th {\n",
       "        vertical-align: top;\n",
       "    }\n",
       "\n",
       "    .dataframe thead th {\n",
       "        text-align: right;\n",
       "    }\n",
       "</style>\n",
       "<table border=\"1\" class=\"dataframe\">\n",
       "  <thead>\n",
       "    <tr style=\"text-align: right;\">\n",
       "      <th></th>\n",
       "      <th>accuracy_test</th>\n",
       "      <th>f1_test</th>\n",
       "      <th>recall_test</th>\n",
       "      <th>precision_test</th>\n",
       "    </tr>\n",
       "  </thead>\n",
       "  <tbody>\n",
       "    <tr>\n",
       "      <th>0</th>\n",
       "      <td>0.987949</td>\n",
       "      <td>0.908911</td>\n",
       "      <td>0.85122</td>\n",
       "      <td>0.978889</td>\n",
       "    </tr>\n",
       "  </tbody>\n",
       "</table>\n",
       "</div>"
      ],
      "text/plain": [
       "   accuracy_test   f1_test  recall_test  precision_test\n",
       "0       0.987949  0.908911      0.85122        0.978889"
      ]
     },
     "execution_count": 8,
     "metadata": {},
     "output_type": "execute_result"
    }
   ],
   "source": [
    "svm_p = performance_metrics(SVC(kernel = 'poly'))\n",
    "svm_p"
   ]
  },
  {
   "cell_type": "markdown",
   "id": "c00452a3",
   "metadata": {},
   "source": [
    "<h4> Radial kernel </h4>"
   ]
  },
  {
   "cell_type": "code",
   "execution_count": 9,
   "id": "39965f5c",
   "metadata": {},
   "outputs": [
    {
     "data": {
      "text/html": [
       "<div>\n",
       "<style scoped>\n",
       "    .dataframe tbody tr th:only-of-type {\n",
       "        vertical-align: middle;\n",
       "    }\n",
       "\n",
       "    .dataframe tbody tr th {\n",
       "        vertical-align: top;\n",
       "    }\n",
       "\n",
       "    .dataframe thead th {\n",
       "        text-align: right;\n",
       "    }\n",
       "</style>\n",
       "<table border=\"1\" class=\"dataframe\">\n",
       "  <thead>\n",
       "    <tr style=\"text-align: right;\">\n",
       "      <th></th>\n",
       "      <th>accuracy_test</th>\n",
       "      <th>f1_test</th>\n",
       "      <th>recall_test</th>\n",
       "      <th>precision_test</th>\n",
       "    </tr>\n",
       "  </thead>\n",
       "  <tbody>\n",
       "    <tr>\n",
       "      <th>0</th>\n",
       "      <td>0.987948</td>\n",
       "      <td>0.909862</td>\n",
       "      <td>0.85622</td>\n",
       "      <td>0.973384</td>\n",
       "    </tr>\n",
       "  </tbody>\n",
       "</table>\n",
       "</div>"
      ],
      "text/plain": [
       "   accuracy_test   f1_test  recall_test  precision_test\n",
       "0       0.987948  0.909862      0.85622        0.973384"
      ]
     },
     "execution_count": 9,
     "metadata": {},
     "output_type": "execute_result"
    }
   ],
   "source": [
    "svm_r = performance_metrics(SVC(kernel = 'rbf'))\n",
    "svm_r"
   ]
  },
  {
   "cell_type": "markdown",
   "id": "68bf20f4",
   "metadata": {},
   "source": [
    "<h3> e - K-nearest neighbors (KNN) </h3>"
   ]
  },
  {
   "cell_type": "code",
   "execution_count": 10,
   "id": "22350398",
   "metadata": {
    "scrolled": false
   },
   "outputs": [
    {
     "name": "stdout",
     "output_type": "stream",
     "text": [
      "Number of neighbors : 7\n"
     ]
    },
    {
     "data": {
      "text/html": [
       "<div>\n",
       "<style scoped>\n",
       "    .dataframe tbody tr th:only-of-type {\n",
       "        vertical-align: middle;\n",
       "    }\n",
       "\n",
       "    .dataframe tbody tr th {\n",
       "        vertical-align: top;\n",
       "    }\n",
       "\n",
       "    .dataframe thead th {\n",
       "        text-align: right;\n",
       "    }\n",
       "</style>\n",
       "<table border=\"1\" class=\"dataframe\">\n",
       "  <thead>\n",
       "    <tr style=\"text-align: right;\">\n",
       "      <th></th>\n",
       "      <th>accuracy_test</th>\n",
       "      <th>f1_test</th>\n",
       "      <th>recall_test</th>\n",
       "      <th>precision_test</th>\n",
       "    </tr>\n",
       "  </thead>\n",
       "  <tbody>\n",
       "    <tr>\n",
       "      <th>0</th>\n",
       "      <td>0.987594</td>\n",
       "      <td>0.907991</td>\n",
       "      <td>0.856707</td>\n",
       "      <td>0.967285</td>\n",
       "    </tr>\n",
       "  </tbody>\n",
       "</table>\n",
       "</div>"
      ],
      "text/plain": [
       "   accuracy_test   f1_test  recall_test  precision_test\n",
       "0       0.987594  0.907991     0.856707        0.967285"
      ]
     },
     "execution_count": 10,
     "metadata": {},
     "output_type": "execute_result"
    }
   ],
   "source": [
    "from sklearn.neighbors import KNeighborsClassifier\n",
    "from sklearn.model_selection import GridSearchCV\n",
    "\n",
    "# créer un dictionnaire de valeurs pour le paramètre n_neighbors\n",
    "param_grid = {'n_neighbors': np.arange(1, 25)}\n",
    "\n",
    "# utilisation de GridSearchCV pour tester toutes les combinaisons du dictionnaire\n",
    "knn_gscv = GridSearchCV(KNeighborsClassifier(), param_grid, cv=5)\n",
    "\n",
    "# apprentissage du modèle\n",
    "knn_gscv.fit(X, Y)\n",
    "\n",
    "print(\"Number of neighbors :\", knn_gscv.best_params_['n_neighbors'])\n",
    "\n",
    "knn = performance_metrics(knn_gscv.best_estimator_)\n",
    "\n",
    "knn"
   ]
  },
  {
   "cell_type": "markdown",
   "id": "8b74fd96",
   "metadata": {},
   "source": [
    "<h3> f - Decision tree </h3>"
   ]
  },
  {
   "cell_type": "markdown",
   "id": "f48d8798",
   "metadata": {},
   "source": [
    "<h4> Basic decision tree </h4>"
   ]
  },
  {
   "cell_type": "code",
   "execution_count": 11,
   "id": "fe9f37d4",
   "metadata": {
    "scrolled": true
   },
   "outputs": [
    {
     "data": {
      "text/html": [
       "<div>\n",
       "<style scoped>\n",
       "    .dataframe tbody tr th:only-of-type {\n",
       "        vertical-align: middle;\n",
       "    }\n",
       "\n",
       "    .dataframe tbody tr th {\n",
       "        vertical-align: top;\n",
       "    }\n",
       "\n",
       "    .dataframe thead th {\n",
       "        text-align: right;\n",
       "    }\n",
       "</style>\n",
       "<table border=\"1\" class=\"dataframe\">\n",
       "  <thead>\n",
       "    <tr style=\"text-align: right;\">\n",
       "      <th></th>\n",
       "      <th>accuracy_test</th>\n",
       "      <th>f1_test</th>\n",
       "      <th>recall_test</th>\n",
       "      <th>precision_test</th>\n",
       "    </tr>\n",
       "  </thead>\n",
       "  <tbody>\n",
       "    <tr>\n",
       "      <th>0</th>\n",
       "      <td>0.983338</td>\n",
       "      <td>0.884335</td>\n",
       "      <td>0.890976</td>\n",
       "      <td>0.878962</td>\n",
       "    </tr>\n",
       "  </tbody>\n",
       "</table>\n",
       "</div>"
      ],
      "text/plain": [
       "   accuracy_test   f1_test  recall_test  precision_test\n",
       "0       0.983338  0.884335     0.890976        0.878962"
      ]
     },
     "execution_count": 11,
     "metadata": {},
     "output_type": "execute_result"
    }
   ],
   "source": [
    "from sklearn import tree\n",
    "\n",
    "bdt = performance_metrics(tree.DecisionTreeClassifier())\n",
    "bdt"
   ]
  },
  {
   "cell_type": "markdown",
   "id": "cd8d671a",
   "metadata": {},
   "source": [
    "<h4> Bagging </h4>"
   ]
  },
  {
   "cell_type": "code",
   "execution_count": 12,
   "id": "5aeafd0f",
   "metadata": {
    "scrolled": true
   },
   "outputs": [
    {
     "data": {
      "text/html": [
       "<div>\n",
       "<style scoped>\n",
       "    .dataframe tbody tr th:only-of-type {\n",
       "        vertical-align: middle;\n",
       "    }\n",
       "\n",
       "    .dataframe tbody tr th {\n",
       "        vertical-align: top;\n",
       "    }\n",
       "\n",
       "    .dataframe thead th {\n",
       "        text-align: right;\n",
       "    }\n",
       "</style>\n",
       "<table border=\"1\" class=\"dataframe\">\n",
       "  <thead>\n",
       "    <tr style=\"text-align: right;\">\n",
       "      <th></th>\n",
       "      <th>accuracy_test</th>\n",
       "      <th>f1_test</th>\n",
       "      <th>recall_test</th>\n",
       "      <th>precision_test</th>\n",
       "    </tr>\n",
       "  </thead>\n",
       "  <tbody>\n",
       "    <tr>\n",
       "      <th>0</th>\n",
       "      <td>0.989719</td>\n",
       "      <td>0.925337</td>\n",
       "      <td>0.895854</td>\n",
       "      <td>0.958477</td>\n",
       "    </tr>\n",
       "  </tbody>\n",
       "</table>\n",
       "</div>"
      ],
      "text/plain": [
       "   accuracy_test   f1_test  recall_test  precision_test\n",
       "0       0.989719  0.925337     0.895854        0.958477"
      ]
     },
     "execution_count": 12,
     "metadata": {},
     "output_type": "execute_result"
    }
   ],
   "source": [
    "from sklearn.ensemble import BaggingClassifier\n",
    "\n",
    "bag = performance_metrics(BaggingClassifier(base_estimator=tree.DecisionTreeClassifier(), n_estimators=25))\n",
    "bag"
   ]
  },
  {
   "cell_type": "markdown",
   "id": "ea88668e",
   "metadata": {},
   "source": [
    "<h3> g - Random Forest </h3>"
   ]
  },
  {
   "cell_type": "markdown",
   "id": "0368ffc7",
   "metadata": {},
   "source": [
    "<h4> Random forest without bagging </h4>"
   ]
  },
  {
   "cell_type": "code",
   "execution_count": 13,
   "id": "63615847",
   "metadata": {},
   "outputs": [
    {
     "name": "stdout",
     "output_type": "stream",
     "text": [
      "Number of estimators : 61\n",
      "Maximal depth : 7\n"
     ]
    },
    {
     "data": {
      "text/html": [
       "<div>\n",
       "<style scoped>\n",
       "    .dataframe tbody tr th:only-of-type {\n",
       "        vertical-align: middle;\n",
       "    }\n",
       "\n",
       "    .dataframe tbody tr th {\n",
       "        vertical-align: top;\n",
       "    }\n",
       "\n",
       "    .dataframe thead th {\n",
       "        text-align: right;\n",
       "    }\n",
       "</style>\n",
       "<table border=\"1\" class=\"dataframe\">\n",
       "  <thead>\n",
       "    <tr style=\"text-align: right;\">\n",
       "      <th></th>\n",
       "      <th>accuracy_test</th>\n",
       "      <th>f1_test</th>\n",
       "      <th>recall_test</th>\n",
       "      <th>precision_test</th>\n",
       "    </tr>\n",
       "  </thead>\n",
       "  <tbody>\n",
       "    <tr>\n",
       "      <th>0</th>\n",
       "      <td>0.990429</td>\n",
       "      <td>0.930733</td>\n",
       "      <td>0.895976</td>\n",
       "      <td>0.969961</td>\n",
       "    </tr>\n",
       "  </tbody>\n",
       "</table>\n",
       "</div>"
      ],
      "text/plain": [
       "   accuracy_test   f1_test  recall_test  precision_test\n",
       "0       0.990429  0.930733     0.895976        0.969961"
      ]
     },
     "execution_count": 13,
     "metadata": {},
     "output_type": "execute_result"
    }
   ],
   "source": [
    "from sklearn.ensemble import RandomForestClassifier\n",
    "\n",
    "# créer un dictionnaire de valeurs pour les paramètres n_estimators (nombre d'arbres) et max_depth\n",
    "param_grid = {'n_estimators': np.arange(1, 100, 10), 'max_depth': np.arange(1,15,2)}\n",
    "\n",
    "# utilisation de GridSearchCV pour tester toutes les combinaisons du dictionnaire\n",
    "rf_gscv = GridSearchCV(RandomForestClassifier(bootstrap=False), param_grid, cv=5)\n",
    "\n",
    "# apprentissage du modèle\n",
    "rf_gscv.fit(X, Y)\n",
    "\n",
    "print(\"Number of estimators :\", rf_gscv.best_params_['n_estimators'])\n",
    "print(\"Maximal depth :\", rf_gscv.best_params_['max_depth'])\n",
    "\n",
    "rf = performance_metrics(RandomForestClassifier(n_estimators=rf_gscv.best_params_['n_estimators'], \n",
    "                                           max_depth=rf_gscv.best_params_['max_depth'],\n",
    "                                           bootstrap=False))\n",
    "rf"
   ]
  },
  {
   "cell_type": "markdown",
   "id": "cbce60b2",
   "metadata": {},
   "source": [
    "<h4> Random forest with bagging </h4>"
   ]
  },
  {
   "cell_type": "code",
   "execution_count": 14,
   "id": "25c8c394",
   "metadata": {},
   "outputs": [
    {
     "name": "stdout",
     "output_type": "stream",
     "text": [
      "Number of estimators : 11\n",
      "Maximal depth : 13\n"
     ]
    },
    {
     "data": {
      "text/html": [
       "<div>\n",
       "<style scoped>\n",
       "    .dataframe tbody tr th:only-of-type {\n",
       "        vertical-align: middle;\n",
       "    }\n",
       "\n",
       "    .dataframe tbody tr th {\n",
       "        vertical-align: top;\n",
       "    }\n",
       "\n",
       "    .dataframe thead th {\n",
       "        text-align: right;\n",
       "    }\n",
       "</style>\n",
       "<table border=\"1\" class=\"dataframe\">\n",
       "  <thead>\n",
       "    <tr style=\"text-align: right;\">\n",
       "      <th></th>\n",
       "      <th>accuracy_test</th>\n",
       "      <th>f1_test</th>\n",
       "      <th>recall_test</th>\n",
       "      <th>precision_test</th>\n",
       "    </tr>\n",
       "  </thead>\n",
       "  <tbody>\n",
       "    <tr>\n",
       "      <th>0</th>\n",
       "      <td>0.98972</td>\n",
       "      <td>0.925198</td>\n",
       "      <td>0.895732</td>\n",
       "      <td>0.95774</td>\n",
       "    </tr>\n",
       "  </tbody>\n",
       "</table>\n",
       "</div>"
      ],
      "text/plain": [
       "   accuracy_test   f1_test  recall_test  precision_test\n",
       "0        0.98972  0.925198     0.895732         0.95774"
      ]
     },
     "execution_count": 14,
     "metadata": {},
     "output_type": "execute_result"
    }
   ],
   "source": [
    "from sklearn.ensemble import RandomForestClassifier\n",
    "\n",
    "# créer un dictionnaire de valeurs pour les paramètres n_estimators (nombre d'arbres) et max_depth\n",
    "param_grid = {'n_estimators': np.arange(1, 100, 10), 'max_depth': np.arange(1,15,2)}\n",
    "\n",
    "# utilisation de GridSearchCV pour tester toutes les combinaisons du dictionnaire\n",
    "rfb_gscv = GridSearchCV(RandomForestClassifier(bootstrap=True), param_grid, cv=5)\n",
    "\n",
    "# apprentissage du modèle\n",
    "rfb_gscv.fit(X, Y)\n",
    "\n",
    "print(\"Number of estimators :\", rfb_gscv.best_params_['n_estimators'])\n",
    "print(\"Maximal depth :\", rfb_gscv.best_params_['max_depth'])\n",
    "\n",
    "rfb = performance_metrics(rfb_gscv.best_estimator_)\n",
    "rfb"
   ]
  },
  {
   "cell_type": "markdown",
   "id": "0c0e9575",
   "metadata": {},
   "source": [
    "<h3> h - Boosting (AdaBoost) </h3>"
   ]
  },
  {
   "cell_type": "code",
   "execution_count": 15,
   "id": "92e2c3aa",
   "metadata": {},
   "outputs": [
    {
     "data": {
      "text/html": [
       "<div>\n",
       "<style scoped>\n",
       "    .dataframe tbody tr th:only-of-type {\n",
       "        vertical-align: middle;\n",
       "    }\n",
       "\n",
       "    .dataframe tbody tr th {\n",
       "        vertical-align: top;\n",
       "    }\n",
       "\n",
       "    .dataframe thead th {\n",
       "        text-align: right;\n",
       "    }\n",
       "</style>\n",
       "<table border=\"1\" class=\"dataframe\">\n",
       "  <thead>\n",
       "    <tr style=\"text-align: right;\">\n",
       "      <th></th>\n",
       "      <th>accuracy_test</th>\n",
       "      <th>f1_test</th>\n",
       "      <th>recall_test</th>\n",
       "      <th>precision_test</th>\n",
       "    </tr>\n",
       "  </thead>\n",
       "  <tbody>\n",
       "    <tr>\n",
       "      <th>0</th>\n",
       "      <td>0.988657</td>\n",
       "      <td>0.918905</td>\n",
       "      <td>0.901098</td>\n",
       "      <td>0.942141</td>\n",
       "    </tr>\n",
       "  </tbody>\n",
       "</table>\n",
       "</div>"
      ],
      "text/plain": [
       "   accuracy_test   f1_test  recall_test  precision_test\n",
       "0       0.988657  0.918905     0.901098        0.942141"
      ]
     },
     "execution_count": 15,
     "metadata": {},
     "output_type": "execute_result"
    }
   ],
   "source": [
    "from sklearn.ensemble import AdaBoostClassifier\n",
    "\n",
    "boost = performance_metrics(AdaBoostClassifier(n_estimators=200))\n",
    "boost"
   ]
  },
  {
   "cell_type": "markdown",
   "id": "543dfa65",
   "metadata": {},
   "source": [
    "<h3> i - Gradient Tree Boosting </h3>"
   ]
  },
  {
   "cell_type": "code",
   "execution_count": 16,
   "id": "3f61fbe5",
   "metadata": {},
   "outputs": [
    {
     "data": {
      "text/html": [
       "<div>\n",
       "<style scoped>\n",
       "    .dataframe tbody tr th:only-of-type {\n",
       "        vertical-align: middle;\n",
       "    }\n",
       "\n",
       "    .dataframe tbody tr th {\n",
       "        vertical-align: top;\n",
       "    }\n",
       "\n",
       "    .dataframe thead th {\n",
       "        text-align: right;\n",
       "    }\n",
       "</style>\n",
       "<table border=\"1\" class=\"dataframe\">\n",
       "  <thead>\n",
       "    <tr style=\"text-align: right;\">\n",
       "      <th></th>\n",
       "      <th>accuracy_test</th>\n",
       "      <th>f1_test</th>\n",
       "      <th>recall_test</th>\n",
       "      <th>precision_test</th>\n",
       "    </tr>\n",
       "  </thead>\n",
       "  <tbody>\n",
       "    <tr>\n",
       "      <th>0</th>\n",
       "      <td>0.987948</td>\n",
       "      <td>0.9114</td>\n",
       "      <td>0.871463</td>\n",
       "      <td>0.960906</td>\n",
       "    </tr>\n",
       "  </tbody>\n",
       "</table>\n",
       "</div>"
      ],
      "text/plain": [
       "   accuracy_test  f1_test  recall_test  precision_test\n",
       "0       0.987948   0.9114     0.871463        0.960906"
      ]
     },
     "execution_count": 16,
     "metadata": {},
     "output_type": "execute_result"
    }
   ],
   "source": [
    "from sklearn.ensemble import GradientBoostingClassifier\n",
    "\n",
    "gtb = performance_metrics(GradientBoostingClassifier(n_estimators=100, validation_fraction=0.2, n_iter_no_change=10))\n",
    "gtb"
   ]
  },
  {
   "cell_type": "markdown",
   "id": "8b929237",
   "metadata": {},
   "source": [
    "<h3> j - Stacking </h3>"
   ]
  },
  {
   "cell_type": "code",
   "execution_count": 17,
   "id": "14024102",
   "metadata": {
    "scrolled": true
   },
   "outputs": [
    {
     "data": {
      "text/html": [
       "<div>\n",
       "<style scoped>\n",
       "    .dataframe tbody tr th:only-of-type {\n",
       "        vertical-align: middle;\n",
       "    }\n",
       "\n",
       "    .dataframe tbody tr th {\n",
       "        vertical-align: top;\n",
       "    }\n",
       "\n",
       "    .dataframe thead th {\n",
       "        text-align: right;\n",
       "    }\n",
       "</style>\n",
       "<table border=\"1\" class=\"dataframe\">\n",
       "  <thead>\n",
       "    <tr style=\"text-align: right;\">\n",
       "      <th></th>\n",
       "      <th>accuracy_test</th>\n",
       "      <th>f1_test</th>\n",
       "      <th>recall_test</th>\n",
       "      <th>precision_test</th>\n",
       "    </tr>\n",
       "  </thead>\n",
       "  <tbody>\n",
       "    <tr>\n",
       "      <th>0</th>\n",
       "      <td>0.991491</td>\n",
       "      <td>0.938402</td>\n",
       "      <td>0.915488</td>\n",
       "      <td>0.965568</td>\n",
       "    </tr>\n",
       "  </tbody>\n",
       "</table>\n",
       "</div>"
      ],
      "text/plain": [
       "   accuracy_test   f1_test  recall_test  precision_test\n",
       "0       0.991491  0.938402     0.915488        0.965568"
      ]
     },
     "execution_count": 17,
     "metadata": {},
     "output_type": "execute_result"
    }
   ],
   "source": [
    "from sklearn.ensemble import StackingClassifier\n",
    "\n",
    "classifier = [('naive',GaussianNB()),\n",
    "              ('logistic',LogisticRegression()),\n",
    "              ('lda',LinearDiscriminantAnalysis()), \n",
    "              ('qda',QuadraticDiscriminantAnalysis()), \n",
    "              ('svm_l',SVC(kernel = 'linear')),\n",
    "              ('svm_r',SVC(kernel = 'rbf')),\n",
    "              ('svm_p',SVC(kernel = 'poly')),\n",
    "              ('dt',tree.DecisionTreeClassifier()),\n",
    "              ('knn',knn_gscv.best_estimator_),\n",
    "              ('rf',rfb_gscv.best_estimator_),\n",
    "              ('adaboost',AdaBoostClassifier(n_estimators=200)),\n",
    "              ('gradtree',GradientBoostingClassifier(n_estimators=100, \n",
    "                                                      validation_fraction=0.2, \n",
    "                                                      n_iter_no_change=10))\n",
    "              \n",
    "              \n",
    "             ]\n",
    "\n",
    "stack = performance_metrics(StackingClassifier(estimators=classifier, final_estimator=LogisticRegression()))\n",
    "stack"
   ]
  },
  {
   "cell_type": "markdown",
   "id": "285301b8",
   "metadata": {},
   "source": [
    "<h2> IV - Comparaison des modèles </h2>"
   ]
  },
  {
   "cell_type": "code",
   "execution_count": 18,
   "id": "09addc42",
   "metadata": {},
   "outputs": [
    {
     "data": {
      "image/png": "[encoded data removed]",
      "text/plain": [
       "<Figure size 432x288 with 1 Axes>"
      ]
     },
     "metadata": {
      "needs_background": "light"
     },
     "output_type": "display_data"
    }
   ],
   "source": [
    "import matplotlib.pyplot as plt\n",
    "\n",
    "fig = plt.figure()\n",
    "plt.scatter(nbc.recall_test, nbc.precision_test, s = 50, c = 'orange', marker = 'o')\n",
    "plt.annotate(\"naive\", (nbc.recall_test, nbc.precision_test), c = 'green')\n",
    "\n",
    "plt.scatter(lr.recall_test, lr.precision_test, s = 50, c = 'orange', marker = 'o')\n",
    "plt.annotate(\"lr\", (lr.recall_test, lr.precision_test), c = 'green')\n",
    "\n",
    "plt.scatter(lda.recall_test, lda.precision_test, s = 50, c = 'orange', marker = 'o')\n",
    "plt.annotate(\"lda\", (lda.recall_test, lda.precision_test), c = 'green')\n",
    "\n",
    "plt.scatter(qda.recall_test, qda.precision_test, s = 50, c = 'orange', marker = 'o')\n",
    "plt.annotate(\"qda\", (qda.recall_test, qda.precision_test), c = 'green')\n",
    "\n",
    "plt.scatter(svm_l.recall_test, svm_l.precision_test, s = 50, c = 'orange', marker = 'o')\n",
    "plt.annotate(\"svm_l\", (svm_l.recall_test, svm_l.precision_test), c = 'green')\n",
    "\n",
    "plt.scatter(svm_p.recall_test, svm_p.precision_test, s = 50, c = 'orange', marker = 'o')\n",
    "plt.annotate(\"svm_p\", (svm_p.recall_test, svm_p.precision_test), c = 'green')\n",
    "\n",
    "plt.scatter(svm_r.recall_test, svm_r.precision_test, s = 50, c = 'orange', marker = 'o')\n",
    "plt.annotate(\"svm_r\", (svm_r.recall_test, svm_r.precision_test), c = 'green')\n",
    "\n",
    "plt.scatter(knn.recall_test, knn.precision_test, s = 50, c = 'orange', marker = 'o')\n",
    "plt.annotate(\"knn\", (knn.recall_test, knn.precision_test), c = 'green')\n",
    "\n",
    "plt.scatter(bdt.recall_test, bdt.precision_test, s = 50, c = 'orange', marker = 'o')\n",
    "plt.annotate(\"bdt\", (bdt.recall_test, bdt.precision_test), c = 'green')\n",
    "\n",
    "plt.scatter(bag.recall_test, bag.precision_test, s = 50, c = 'orange', marker = 'o')\n",
    "plt.annotate(\"bag\", (bag.recall_test, bag.precision_test), c = 'green')\n",
    "\n",
    "plt.scatter(rf.recall_test, rf.precision_test, s = 50, c = 'orange', marker = 'o')\n",
    "plt.annotate(\"rf\", (rf.recall_test, rf.precision_test), c = 'green')\n",
    "\n",
    "plt.scatter(rfb.recall_test, rfb.precision_test, s = 50, c = 'orange', marker = 'o')\n",
    "plt.annotate(\"rfb\", (rfb.recall_test, rfb.precision_test), c = 'green')\n",
    "\n",
    "plt.scatter(boost.recall_test, boost.precision_test, s = 50, c = 'orange', marker = 'o')\n",
    "plt.annotate(\"boost\", (boost.recall_test, boost.precision_test), c = 'green')\n",
    "\n",
    "plt.scatter(gtb.recall_test, gtb.precision_test, s = 50, c = 'orange', marker = 'o')\n",
    "plt.annotate(\"gtb\", (gtb.recall_test, gtb.precision_test), c = 'green')\n",
    "\n",
    "plt.scatter(stack.recall_test, stack.precision_test, s = 50, c = 'orange', marker = 'o')\n",
    "plt.annotate(\"stack\", (stack.recall_test, stack.precision_test), c = 'green')\n",
    "\n",
    "plt.xlabel(\"recall\")\n",
    "plt.ylabel(\"precision\")\n",
    "plt.show()\n",
    "fig.savefig(\"plot.png\", dpi = 500)"
   ]
  }
 ],
 "metadata": {
  "kernelspec": {
   "display_name": "Python 3",
   "language": "python",
   "name": "python3"
  },
  "language_info": {
   "codemirror_mode": {
    "name": "ipython",
    "version": 3
   },
   "file_extension": ".py",
   "mimetype": "text/x-python",
   "name": "python",
   "nbconvert_exporter": "python",
   "pygments_lexer": "ipython3",
   "version": "3.8.8"
  }
 },
 "nbformat": 4,
 "nbformat_minor": 5
}
